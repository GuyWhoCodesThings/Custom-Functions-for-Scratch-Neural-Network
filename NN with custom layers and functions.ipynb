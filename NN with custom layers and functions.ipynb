{
  "nbformat": 4,
  "nbformat_minor": 0,
  "metadata": {
    "colab": {
      "provenance": [],
      "collapsed_sections": [],
      "authorship_tag": "ABX9TyOfI2R2mX1C88ucExFCS4uT",
      "include_colab_link": true
    },
    "kernelspec": {
      "name": "python3",
      "display_name": "Python 3"
    },
    "language_info": {
      "name": "python"
    }
  },
  "cells": [
    {
      "cell_type": "markdown",
      "metadata": {
        "id": "view-in-github",
        "colab_type": "text"
      },
      "source": [
        "<a href=\"https://colab.research.google.com/github/GuyWhoCodesThings/Custom-Functions-for-Scratch-Neural-Network/blob/main/NN%20with%20custom%20layers%20and%20functions.ipynb\" target=\"_parent\"><img src=\"https://colab.research.google.com/assets/colab-badge.svg\" alt=\"Open In Colab\"/></a>"
      ]
    },
    {
      "cell_type": "markdown",
      "source": [
        "https://iamtrask.github.io/2015/07/28/dropout/"
      ],
      "metadata": {
        "id": "tvkqVW_vafNI"
      }
    },
    {
      "cell_type": "code",
      "execution_count": 47,
      "metadata": {
        "id": "yOywCS0JMdvZ"
      },
      "outputs": [],
      "source": [
        "import numpy as np\n",
        "import pandas as pd\n",
        "from matplotlib import pyplot as plt\n",
        "from scipy import signal\n",
        "from keras.datasets import mnist\n",
        "from keras.utils import np_utils\n",
        "from skimage.measure import block_reduce\n",
        "from skimage.measure import block_reduce\n",
        "from skimage.util import view_as_blocks\n",
        "import numpy.ma as ma\n",
        "from matplotlib import pyplot\n",
        "import random"
      ]
    },
    {
      "cell_type": "code",
      "source": [
        "!python --version"
      ],
      "metadata": {
        "colab": {
          "base_uri": "https://localhost:8080/"
        },
        "id": "WGNor-enMhrZ",
        "outputId": "30f6db5f-76a7-4d5c-f976-0441a1624a2e"
      },
      "execution_count": 48,
      "outputs": [
        {
          "output_type": "stream",
          "name": "stdout",
          "text": [
            "Python 3.7.14\n"
          ]
        }
      ]
    },
    {
      "cell_type": "code",
      "source": [
        "class Layer:\n",
        "  def __init__(self):\n",
        "    self.input = None\n",
        "    self.output = None\n",
        "  def forward(self, input):\n",
        "    pass\n",
        "  def backward(self, output_gradient, alpha):\n",
        "    pass"
      ],
      "metadata": {
        "id": "Id1F1PoWMjU3"
      },
      "execution_count": 49,
      "outputs": []
    },
    {
      "cell_type": "code",
      "source": [
        "class Dense(Layer):\n",
        "    def __init__(self, input_size, output_size):\n",
        "        self.weights = np.random.randn(output_size, input_size)\n",
        "        self.bias = np.random.randn(output_size, 1)\n",
        "    def forward(self, input):\n",
        "        self.input = input\n",
        "        return np.dot(self.weights, self.input) + self.bias\n",
        "    def backward(self, output_gradient, learning_rate):\n",
        "        weights_gradient = np.dot(output_gradient, self.input.T)\n",
        "        self.weights -= learning_rate * weights_gradient\n",
        "        self.bias -= learning_rate * output_gradient\n",
        "        return np.dot(self.weights.T, output_gradient)"
      ],
      "metadata": {
        "id": "03xretZwM25l"
      },
      "execution_count": 50,
      "outputs": []
    },
    {
      "cell_type": "code",
      "source": [
        "class Convolutional(Layer):\n",
        "     def __init__(self, input_shape, kernel_size, depth):\n",
        "         input_depth, input_height, input_width = input_shape\n",
        "         self.depth = depth\n",
        "         self.input_shape = input_shape\n",
        "         self.input_depth = input_depth\n",
        "         self.output_shape = (depth, input_height - kernel_size + 1, input_width - kernel_size + 1)\n",
        "         self.kernels_shape = (depth, input_depth, kernel_size, kernel_size)\n",
        "         self.kernels = np.random.randn(*self.kernels_shape)\n",
        "         self.biases = np.random.randn(*self.output_shape)\n",
        "\n",
        "     def forward(self, input):\n",
        "         self.input = input\n",
        "         self.output = np.copy(self.biases)\n",
        "         for i in range(self.depth):\n",
        "             for j in range(self.input_depth):\n",
        "                 self.output[i] += signal.correlate2d(self.input[j], self.kernels[i, j], \"valid\")\n",
        "         return self.output\n",
        "\n",
        "     def backward(self, output_gradient, learning_rate):\n",
        "         kernels_gradient = np.zeros(self.kernels_shape)\n",
        "         input_gradient = np.zeros(self.input_shape)\n",
        "\n",
        "         for i in range(self.depth):\n",
        "             for j in range(self.input_depth):\n",
        "                 kernels_gradient[i, j] = signal.correlate2d(self.input[j], output_gradient[i], \"valid\")\n",
        "                 input_gradient[j] += signal.convolve2d(output_gradient[i], self.kernels[i, j], \"full\")\n",
        "\n",
        "         self.kernels -= learning_rate * kernels_gradient\n",
        "         self.biases -= learning_rate * output_gradient\n",
        "         return input_gradient"
      ],
      "metadata": {
        "id": "dn9b43ufM4jK"
      },
      "execution_count": 51,
      "outputs": []
    },
    {
      "cell_type": "code",
      "source": [
        "def get_ordered_blocks(input, depth, block_size, input_shape):\n",
        "    ordered_blocks = input.reshape(depth, -1, block_size, block_size)\n",
        "    reshaped_arr = np.zeros(input_shape)\n",
        "    for i in range(depth):\n",
        "      split_blocks = np.array(np.hsplit(ordered_blocks[i], block_size))\n",
        "      #splits array of blocks evenly with respect to the original image length and block size\n",
        "      split_blocks = np.array(np.hsplit(split_blocks, 12))\n",
        "      #reshape array to get it into a sqaure shape like orignal image matrix\n",
        "      reshaped_arr[i] = split_blocks.flatten().reshape(1, input_shape[2], input_shape[1])\n",
        "    return reshaped_arr"
      ],
      "metadata": {
        "id": "5_gqqvhETYfK"
      },
      "execution_count": 116,
      "outputs": []
    },
    {
      "cell_type": "code",
      "source": [
        "def expand_output(output_gradient, depth, height, width, block_size, output_height, output_width):\n",
        "  output_gradient = output_gradient.reshape(depth, output_height, output_width)\n",
        "  input_grad = np.zeros((depth, int(output_height*output_height), block_size**2))\n",
        "  for i in range(depth):\n",
        "    input_grad[i] = np.repeat(output_gradient[i], block_size**2).reshape(-1,block_size**2)\n",
        "  return get_ordered_blocks(input_grad, depth, block_size, (depth, height, width))\n"
      ],
      "metadata": {
        "id": "zJl-CEJhV8bW"
      },
      "execution_count": 117,
      "outputs": []
    },
    {
      "cell_type": "code",
      "source": [
        "class MaxPool2d(Layer):\n",
        "  def __init__(self, input_shape, block_size):\n",
        "    self.block_size = block_size\n",
        "    self.input_shape = input_shape\n",
        "    input_depth, input_height, input_width = input_shape\n",
        "    self.depth = input_depth\n",
        "    self.input_height = input_height\n",
        "    self.input_width = input_width\n",
        "    self.output_width = int(self.input_width / self.block_size)\n",
        "    self.output_height = int(self.input_height / self.block_size)\n",
        "    \n",
        "  def forward(self, input):\n",
        "    self.block_image = view_as_blocks(input, (1,self.block_size, self.block_size)).reshape(self.depth,-1, self.block_size**2)\n",
        "    self.output = np.amax(self.block_image, axis=2).reshape(-1, self.output_height, self.output_width)\n",
        "    return self.output\n",
        "    \n",
        "  def backward(self, output_gradient, learning_rate):\n",
        "    max_indices = np.argmax(self.block_image, axis=2)\n",
        "    max_indices = max_indices.reshape(self.depth, -1, 1)\n",
        "    input_gradient = np.zeros_like(self.block_image).reshape(self.depth, -1, self.block_size**2)\n",
        "    np.put_along_axis(input_gradient, max_indices, 1, axis=2)\n",
        "    return np.multiply(get_ordered_blocks(input_gradient, self.depth, self.block_size, self.input_shape),\n",
        "                      expand_output(output_gradient, self.depth, self.input_height, self.input_width,\n",
        "                      self.block_size, self.output_width, self.output_height))"
      ],
      "metadata": {
        "id": "Rb4anMs-M6b8"
      },
      "execution_count": 118,
      "outputs": []
    },
    {
      "cell_type": "code",
      "source": [
        "class Reshape(Layer):\n",
        "     def __init__(self, input_shape, output_shape):\n",
        "         self.input_shape = input_shape\n",
        "         self.output_shape = output_shape\n",
        "\n",
        "     def forward(self, input):\n",
        "         return np.reshape(input, self.output_shape)\n",
        "\n",
        "     def backward(self, output_gradient, learning_rate):\n",
        "         return np.reshape(output_gradient, self.input_shape)"
      ],
      "metadata": {
        "id": "rIz23DwRM8Hx"
      },
      "execution_count": 53,
      "outputs": []
    },
    {
      "cell_type": "code",
      "source": [
        "def binary_cross_entropy(y_true, y_pred):\n",
        "     return np.mean(-y_true * np.log(y_pred) - (1 - y_true) * np.log(1 - y_pred))\n",
        "\n",
        "def binary_cross_entropy_prime(y_true, y_pred):\n",
        "     return ((1 - y_true) / (1 - y_pred) - y_true / y_pred) / np.size(y_true)"
      ],
      "metadata": {
        "id": "fEm0ohpNM9we"
      },
      "execution_count": 54,
      "outputs": []
    },
    {
      "cell_type": "code",
      "source": [
        "class Softmax(Layer):\n",
        "\n",
        "  def forward(self, input):\n",
        "    tmp = np.exp(input)\n",
        "    self.output = tmp / np.sum(tmp)\n",
        "    return self.output\n",
        "  \n",
        "  def bacward(self, output_gradient, alpha):\n",
        "    n = np.size(self.output)\n",
        "    tmp = np.tile(self.output, n)\n",
        "    return np.dot(tmp * (np.identity(n) - np.transpose(tmp)), output_gradient)\n"
      ],
      "metadata": {
        "id": "h2Ud464MM_EK"
      },
      "execution_count": 55,
      "outputs": []
    },
    {
      "cell_type": "code",
      "source": [
        "class Activation(Layer):\n",
        "    def __init__(self, activation, activation_prime):\n",
        "        self.activation = activation\n",
        "        self.activation_prime = activation_prime\n",
        "    def forward(self, input):\n",
        "        self.input = input\n",
        "        return self.activation(self.input)\n",
        "    def backward(self, output_gradient, learning_rate):\n",
        "        return np.multiply(output_gradient, self.activation_prime(self.input))"
      ],
      "metadata": {
        "id": "vCB64eQXNA4K"
      },
      "execution_count": 56,
      "outputs": []
    },
    {
      "cell_type": "code",
      "source": [
        "class ReLU(Activation):\n",
        "\n",
        "  def __init__(self):\n",
        "\n",
        "    relu = lambda x: np.maximum(x,0)\n",
        "    relu_prime = lambda x: x > 0\n",
        "    \n",
        "    super().__init__(relu, relu_prime)"
      ],
      "metadata": {
        "id": "AP9gHo3VNCMf"
      },
      "execution_count": 57,
      "outputs": []
    },
    {
      "cell_type": "code",
      "source": [
        "class Soft_Plus(Activation):\n",
        "\n",
        "  def __init__(self):\n",
        "\n",
        "    softPlus = lambda x: np.log1p(np.exp(x))\n",
        "    soft_prime = lambda x: 1 / (1 + np.exp(-x))\n",
        "\n",
        "    super().__init__(softPlus, soft_prime)"
      ],
      "metadata": {
        "id": "1DBjGU1pNEWu"
      },
      "execution_count": 58,
      "outputs": []
    },
    {
      "cell_type": "code",
      "source": [
        "class Tanh(Activation):\n",
        "\n",
        "  def __init__(self):\n",
        "\n",
        "    tanh = lambda x: np.tanh(x)\n",
        "    tanh_prime = lambda x: 1 - np.tanh(x) ** 2\n",
        "    \n",
        "    super().__init__(tanh, tanh_prime)"
      ],
      "metadata": {
        "id": "UtEYXf2nNMcU"
      },
      "execution_count": 59,
      "outputs": []
    },
    {
      "cell_type": "code",
      "source": [
        "class Sigmoid(Activation):\n",
        "     def __init__(self):\n",
        "         def sigmoid(x):\n",
        "            return 1 / (1 + np.exp(-x))\n",
        "\n",
        "         def sigmoid_prime(x):\n",
        "            s = sigmoid(x)\n",
        "            return s * (1 - s)\n",
        "\n",
        "         super().__init__(sigmoid, sigmoid_prime)"
      ],
      "metadata": {
        "id": "DYr7JlMrNOdF"
      },
      "execution_count": 60,
      "outputs": []
    },
    {
      "cell_type": "code",
      "source": [
        "def mse(y_true, y_pred):\n",
        "  return np.mean(np.power(y_true - y_pred, 2))\n",
        "\n",
        "def mse_prime(y_true, y_pred):\n",
        "  return 2 * (y_pred - y_true) / np.size(y_true)"
      ],
      "metadata": {
        "id": "Opvu8fiRNQCD"
      },
      "execution_count": 61,
      "outputs": []
    },
    {
      "cell_type": "code",
      "source": [
        "from numpy.ma.core import masked_array\n",
        "class Dropout(Layer):\n",
        "  def __init__(self, input_size, retention_rate, do_drop):\n",
        "    self.input_size = input_size\n",
        "    self.do_drop = do_drop\n",
        "    self.retention_rate = retention_rate\n",
        "\n",
        "  def forward(self, input):\n",
        "    if self.do_drop == True:\n",
        "      random_arr = np.random.rand(self.input_size, 1)\n",
        "      print(random_arr.shape)\n",
        "      masked_arr = np.argwhere(random_arr <= self.retention_rate)\n",
        "      print('mask', masked_arr.shape)\n",
        "      self.indices = np.argwhere(masked_arr == True)\n",
        "      self.output = np.take(self.indices, input)\n",
        "      return self.output\n",
        "    else:\n",
        "      return input\n",
        "\n",
        "  def backward(self, output_gradient, learnign_rate):\n",
        "    input_gradient = np.zeros(self.input_size, 1)\n",
        "    input_gradient = np.put(input_gradient, self.indicies, output_gradient, axis=1)\n",
        "    return input_gradient"
      ],
      "metadata": {
        "id": "6VJ4a7X4nEX3"
      },
      "execution_count": 62,
      "outputs": []
    },
    {
      "cell_type": "code",
      "source": [
        "def preprocess_data(x, y, limit):\n",
        "     zero_index = np.where(y == 0)[0][:limit]\n",
        "     one_index = np.where(y == 1)[0][:limit]\n",
        "     all_indices = np.hstack((zero_index, one_index))\n",
        "     all_indices = np.random.permutation(all_indices)\n",
        "     x, y = x[all_indices], y[all_indices]\n",
        "     x = x.reshape(len(x), 1, 28, 28)\n",
        "     x = x.astype(\"float32\") / 255\n",
        "     y = np_utils.to_categorical(y)\n",
        "     y = y.reshape(len(y), 2, 1)\n",
        "     return x, y\n",
        "\n",
        " # load MNIST from server, limit to 100 images per class since we're not training on GPU\n",
        "(x_train, y_train), (x_test, y_test) = mnist.load_data()\n",
        "x_train, y_train = preprocess_data(x_train, y_train, 100)\n",
        "x_test, y_test = preprocess_data(x_test, y_test, 100)\n",
        "\n",
        " # neural network\n",
        "network = [\n",
        "     Convolutional((1, 28, 28), 5, 5),\n",
        "     Sigmoid(),\n",
        "     Reshape((5, 24, 24), (5 * 24 * 24, 1)),\n",
        "     Dense(5 * 24 * 24, 100),\n",
        "     Sigmoid(),\n",
        "     Dense(100, 2),\n",
        "     Sigmoid()\n",
        " ]\n",
        "\n",
        "epochs = 50\n",
        "learning_rate = 0.01\n",
        "\n",
        " # train\n",
        "for e in range(epochs):\n",
        "     error = 0\n",
        "     for x, y in zip(x_train, y_train):\n",
        "         # forward\n",
        "         output = x\n",
        "         for layer in network:\n",
        "             output = layer.forward(output)\n",
        "\n",
        "         # error\n",
        "         error += binary_cross_entropy(y, output)\n",
        "\n",
        "         # backward\n",
        "         grad = binary_cross_entropy_prime(y, output)\n",
        "         for layer in reversed(network):\n",
        "             grad = layer.backward(grad, learning_rate)\n",
        "\n",
        "     error /= len(x_train)\n",
        "     print(f\"{e + 1}/{epochs}, error={error}\")\n",
        "\n",
        " # test\n",
        "#for x, y in zip(x_test, y_test):\n",
        "     #output = x\n",
        "     #for layer in network:\n",
        "         #output = layer.forward(output)\n",
        "     #print(f\"pred: {np.argmax(output)}, true: {np.argmax(y)}\")"
      ],
      "metadata": {
        "id": "6ZW5_PF_NRfg",
        "colab": {
          "base_uri": "https://localhost:8080/"
        },
        "outputId": "fc37d084-7b80-4447-a53f-80090395114b"
      },
      "execution_count": 125,
      "outputs": [
        {
          "output_type": "stream",
          "name": "stdout",
          "text": [
            "1/50, error=0.7369569670583439\n",
            "2/50, error=0.19701505243970602\n",
            "3/50, error=0.137663822829617\n",
            "4/50, error=0.10894806028093854\n",
            "5/50, error=0.0909559969347688\n",
            "6/50, error=0.07957529620507577\n",
            "7/50, error=0.06985035970809973\n",
            "8/50, error=0.060627235128192396\n",
            "9/50, error=0.05350968205781268\n",
            "10/50, error=0.04838691255542805\n",
            "11/50, error=0.044684785283493816\n",
            "12/50, error=0.041672561188399744\n",
            "13/50, error=0.039013804482313244\n",
            "14/50, error=0.03661491447312672\n",
            "15/50, error=0.03444803096909412\n",
            "16/50, error=0.03252294921136034\n",
            "17/50, error=0.03084225157740171\n",
            "18/50, error=0.029369159622009824\n",
            "19/50, error=0.028055374850503287\n",
            "20/50, error=0.026866237726214853\n",
            "21/50, error=0.025779785405988288\n",
            "22/50, error=0.02477917700173063\n",
            "23/50, error=0.023849315876396045\n",
            "24/50, error=0.022975157377310814\n",
            "25/50, error=0.022138173218679925\n",
            "26/50, error=0.02130984801270476\n",
            "27/50, error=0.020443422234165908\n",
            "28/50, error=0.019508438594726465\n",
            "29/50, error=0.018646785380634027\n",
            "30/50, error=0.01798536162181238\n",
            "31/50, error=0.017432094081378344\n",
            "32/50, error=0.01693182059745283\n",
            "33/50, error=0.01646608356052983\n",
            "34/50, error=0.01602708874449262\n",
            "35/50, error=0.01561075428172378\n",
            "36/50, error=0.015214593112535804\n",
            "37/50, error=0.014836904914982116\n",
            "38/50, error=0.014476408480442208\n",
            "39/50, error=0.014132053508952087\n",
            "40/50, error=0.013802918773233912\n",
            "41/50, error=0.013488157448172325\n",
            "42/50, error=0.013186969775981643\n",
            "43/50, error=0.012898591418859108\n",
            "44/50, error=0.012622290201436187\n",
            "45/50, error=0.01235736672194213\n",
            "46/50, error=0.012103156186980721\n",
            "47/50, error=0.011859030062643888\n",
            "48/50, error=0.011624396911067864\n",
            "49/50, error=0.011398702242027915\n",
            "50/50, error=0.0111814274652906\n"
          ]
        }
      ]
    },
    {
      "cell_type": "code",
      "source": [
        "network2 = [\n",
        "     Convolutional((1, 28, 28), 5, 5),\n",
        "     Sigmoid(),\n",
        "     MaxPool2d((5, 24, 24), 2),\n",
        "     Sigmoid(),\n",
        "     Reshape((5, 12, 12), (5 * 12 * 12, 1)),\n",
        "     Dense(5 * 12 * 12, 100),\n",
        "     Sigmoid(),\n",
        "     Dense(100, 2),\n",
        "     Sigmoid()\n",
        " ]\n",
        "\n",
        "epochs = 50\n",
        "learning_rate = 0.01\n",
        "\n",
        " # train\n",
        "for e in range(epochs):\n",
        "     error = 0\n",
        "     for x, y in zip(x_train, y_train):\n",
        "         # forward\n",
        "         output = x\n",
        "         for layer in network2:\n",
        "             output = layer.forward(output)\n",
        "\n",
        "         # error\n",
        "         error += binary_cross_entropy(y, output)\n",
        "\n",
        "         # backward\n",
        "         grad = binary_cross_entropy_prime(y, output)\n",
        "         for layer in reversed(network2):\n",
        "             grad = layer.backward(grad, learning_rate)\n",
        "\n",
        "     error /= len(x_train)\n",
        "     print(f\"{e + 1}/{epochs}, error={error}\")\n",
        "\n",
        " # test\n",
        "#for x, y in zip(x_test, y_test):\n",
        "    # output = x\n",
        "     #for layer in network2:\n",
        "      #   output = layer.forward(output)\n",
        "     #print(f\"pred: {np.argmax(output)}, true: {np.argmax(y)}\")"
      ],
      "metadata": {
        "colab": {
          "base_uri": "https://localhost:8080/"
        },
        "id": "CeQrrKgILHvT",
        "outputId": "d2fec34e-10e1-44b6-88b3-484ab472d24f"
      },
      "execution_count": 126,
      "outputs": [
        {
          "output_type": "stream",
          "name": "stdout",
          "text": [
            "1/50, error=0.6769842651449504\n",
            "2/50, error=0.439026508382267\n",
            "3/50, error=0.3851334729056707\n",
            "4/50, error=0.3432689569872943\n",
            "5/50, error=0.3086097973360104\n",
            "6/50, error=0.2794179463274508\n",
            "7/50, error=0.2544866854674672\n",
            "8/50, error=0.23287497833990417\n",
            "9/50, error=0.21376095149103502\n",
            "10/50, error=0.19645201275478183\n",
            "11/50, error=0.18098652908807542\n",
            "12/50, error=0.16780561176990552\n",
            "13/50, error=0.15644466322820177\n",
            "14/50, error=0.14644713050429717\n",
            "15/50, error=0.13754818883878772\n",
            "16/50, error=0.1295745877641363\n",
            "17/50, error=0.12238049075615523\n",
            "18/50, error=0.11587933066828308\n",
            "19/50, error=0.10998871989314013\n",
            "20/50, error=0.10463876792611478\n",
            "21/50, error=0.0997696823390613\n",
            "22/50, error=0.09532683261415413\n",
            "23/50, error=0.09125635747166438\n",
            "24/50, error=0.08751139541749021\n",
            "25/50, error=0.08405161652308481\n",
            "26/50, error=0.08084476218390407\n",
            "27/50, error=0.07785877774326275\n",
            "28/50, error=0.07507316573724702\n",
            "29/50, error=0.07246651350943921\n",
            "30/50, error=0.07001387258916225\n",
            "31/50, error=0.06770787610096915\n",
            "32/50, error=0.06553397843367909\n",
            "33/50, error=0.06347479763456412\n",
            "34/50, error=0.06152849830759843\n",
            "35/50, error=0.059679097685990244\n",
            "36/50, error=0.05792009990092837\n",
            "37/50, error=0.05624167997714815\n",
            "38/50, error=0.054638523986667714\n",
            "39/50, error=0.05310469565035758\n",
            "40/50, error=0.051634390781242046\n",
            "41/50, error=0.05022658261745387\n",
            "42/50, error=0.04887481384617218\n",
            "43/50, error=0.04757766147990295\n",
            "44/50, error=0.04633161847691811\n",
            "45/50, error=0.04513442797080602\n",
            "46/50, error=0.04398364656895807\n",
            "47/50, error=0.04287344872957832\n",
            "48/50, error=0.04180134349908142\n",
            "49/50, error=0.04076355943943346\n",
            "50/50, error=0.03975624575698537\n"
          ]
        }
      ]
    },
    {
      "cell_type": "markdown",
      "source": [
        "go through 1 iteration of forward\n",
        "\n",
        "random_arr = np.random.rand(100, 1)\n",
        "print(len(random_arr))\n",
        "#need to find a diff way to remove elements form array bc it needs to be exactly equal to the retention rate\n",
        "masked_arr = np.argwhere(random_arr < 0.8)\n",
        "print('mask', len(masked_arr))\n",
        "indices = np.argwhere(masked_arr == True)\n",
        "output = np.take(indices, input)\n",
        "print(output)"
      ],
      "metadata": {
        "id": "gnZtmpZP8_Xs"
      }
    },
    {
      "cell_type": "code",
      "source": [],
      "metadata": {
        "id": "OygsYuCdRh4Y"
      },
      "execution_count": null,
      "outputs": []
    },
    {
      "cell_type": "code",
      "source": [],
      "metadata": {
        "id": "M7iJEiRJ1kMQ"
      },
      "execution_count": null,
      "outputs": []
    }
  ]
}
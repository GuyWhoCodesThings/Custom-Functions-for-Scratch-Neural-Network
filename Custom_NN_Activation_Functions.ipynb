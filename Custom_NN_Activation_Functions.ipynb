{
  "nbformat": 4,
  "nbformat_minor": 0,
  "metadata": {
    "colab": {
      "provenance": [],
      "collapsed_sections": [],
      "authorship_tag": "ABX9TyOjk9qOqhh0bbg68M0yQsyP",
      "include_colab_link": true
    },
    "kernelspec": {
      "name": "python3",
      "display_name": "Python 3"
    },
    "language_info": {
      "name": "python"
    }
  },
  "cells": [
    {
      "cell_type": "markdown",
      "metadata": {
        "id": "view-in-github",
        "colab_type": "text"
      },
      "source": [
        "<a href=\"https://colab.research.google.com/github/GuyWhoCodesThings/Custom-Functions-for-Scratch-Neural-Network/blob/main/Custom_NN_Activation_Functions.ipynb\" target=\"_parent\"><img src=\"https://colab.research.google.com/assets/colab-badge.svg\" alt=\"Open In Colab\"/></a>"
      ]
    },
    {
      "cell_type": "markdown",
      "source": [
        "Custom Activation Functions: ReLU and SoftPlus"
      ],
      "metadata": {
        "id": "SS75UJsJiJbv"
      }
    },
    {
      "cell_type": "code",
      "execution_count": 1,
      "metadata": {
        "id": "qljGQdabTf4a"
      },
      "outputs": [],
      "source": [
        "import numpy as np\n",
        "from keras.utils import np_utils"
      ]
    },
    {
      "cell_type": "code",
      "source": [
        "class Layer:\n",
        "  def __init__(self):\n",
        "    self.input = None\n",
        "    self.output = None\n",
        "  def forward(self, input):\n",
        "    pass\n",
        "  def backward(self, output_gradient, alpha):\n",
        "    pass"
      ],
      "metadata": {
        "id": "whBf9pLJihaG"
      },
      "execution_count": 2,
      "outputs": []
    },
    {
      "cell_type": "code",
      "source": [
        "class Activation(Layer):\n",
        "    def __init__(self, activation, activation_prime):\n",
        "        self.activation = activation\n",
        "        self.activation_prime = activation_prime\n",
        "    def forward(self, input):\n",
        "        self.input = input\n",
        "        return self.activation(self.input)\n",
        "    def backward(self, output_gradient, learning_rate):\n",
        "        return np.multiply(output_gradient, self.activation_prime(self.input))"
      ],
      "metadata": {
        "id": "dNPeaKT_iIF0"
      },
      "execution_count": 3,
      "outputs": []
    },
    {
      "cell_type": "code",
      "source": [
        "class ReLU(Activation):\n",
        "\n",
        "  def __init__(self):\n",
        "\n",
        "    relu = lambda x: np.maximum(x,0)\n",
        "    relu_prime = lambda x: x > 0\n",
        "    \n",
        "    super().__init__(relu, relu_prime)"
      ],
      "metadata": {
        "id": "9aZAF9N8dJpI"
      },
      "execution_count": 4,
      "outputs": []
    },
    {
      "cell_type": "code",
      "source": [
        "class Soft_Plus(Activation):\n",
        "\n",
        "  def __init__(self):\n",
        "\n",
        "    softPlus = lambda x: np.log1p(np.exp(x))\n",
        "    soft_prime = lambda x: 1 / (1 + np.exp(-x))\n",
        "\n",
        "    super().__init__(softPlus, soft_prime)"
      ],
      "metadata": {
        "id": "cv5Yds8JiCPa"
      },
      "execution_count": 5,
      "outputs": []
    },
    {
      "cell_type": "code",
      "source": [],
      "metadata": {
        "id": "stiwdTQlikw8"
      },
      "execution_count": null,
      "outputs": []
    }
  ]
}
{
  "nbformat": 4,
  "nbformat_minor": 0,
  "metadata": {
    "colab": {
      "provenance": [],
      "collapsed_sections": [],
      "authorship_tag": "ABX9TyOCuwoWCY24hPDI0yEaW64m",
      "include_colab_link": true
    },
    "kernelspec": {
      "name": "python3",
      "display_name": "Python 3"
    },
    "language_info": {
      "name": "python"
    }
  },
  "cells": [
    {
      "cell_type": "markdown",
      "metadata": {
        "id": "view-in-github",
        "colab_type": "text"
      },
      "source": [
        "<a href=\"https://colab.research.google.com/github/GuyWhoCodesThings/Custom-Functions-for-Scratch-Neural-Network/blob/main/Max_Pooling_Layer_for_NN.ipynb\" target=\"_parent\"><img src=\"https://colab.research.google.com/assets/colab-badge.svg\" alt=\"Open In Colab\"/></a>"
      ]
    },
    {
      "cell_type": "markdown",
      "source": [
        "Max Pooling layer with some other helper methods to make it work"
      ],
      "metadata": {
        "id": "ikDX3d14i76K"
      }
    },
    {
      "cell_type": "code",
      "source": [
        "import numpy as np"
      ],
      "metadata": {
        "id": "2uNzf8IAizC9"
      },
      "execution_count": null,
      "outputs": []
    },
    {
      "cell_type": "code",
      "source": [
        "class Layer:\n",
        "  def __init__(self):\n",
        "    self.input = None\n",
        "    self.output = None\n",
        "  def forward(self, input):\n",
        "    pass\n",
        "  def backward(self, output_gradient, alpha):\n",
        "    pass"
      ],
      "metadata": {
        "id": "K_GM6gecFb4y"
      },
      "execution_count": 1,
      "outputs": []
    },
    {
      "cell_type": "code",
      "source": [
        "def get_ordered_blocks(input, depth, block_size, input_shape):\n",
        "    ordered_blocks = input.reshape(depth, -1, block_size, block_size)\n",
        "    reshaped_arr = np.zeros(input_shape)\n",
        "    for i in range(depth):\n",
        "      split_blocks = np.array(np.hsplit(ordered_blocks[i], block_size))\n",
        "      #splits array of blocks evenly with respect to the original image length and block size\n",
        "      split_blocks = np.array(np.hsplit(split_blocks, 12))\n",
        "      #reshape array to get it into a sqaure shape like orignal image matrix\n",
        "      reshaped_arr[i] = split_blocks.flatten().reshape(1, input_shape[2], input_shape[1])\n",
        "    return reshaped_arr"
      ],
      "metadata": {
        "id": "xJJCBcXsiypk"
      },
      "execution_count": 2,
      "outputs": []
    },
    {
      "cell_type": "code",
      "source": [
        "def expand_output(output_gradient, depth, height, width, block_size, output_height, output_width):\n",
        "  output_gradient = output_gradient.reshape(depth, output_height, output_width)\n",
        "  input_grad = np.zeros((depth, int(output_height*output_height), block_size**2))\n",
        "  for i in range(depth):\n",
        "    input_grad[i] = np.repeat(output_gradient[i], block_size**2).reshape(-1,block_size**2)\n",
        "  return get_ordered_blocks(input_grad, depth, block_size, (depth, height, width))\n"
      ],
      "metadata": {
        "id": "ArnAvt-si2oa"
      },
      "execution_count": 3,
      "outputs": []
    },
    {
      "cell_type": "code",
      "source": [
        "class MaxPool2d(Layer):\n",
        "  def __init__(self, input_shape, block_size):\n",
        "    self.block_size = block_size\n",
        "    self.input_shape = input_shape\n",
        "    input_depth, input_height, input_width = input_shape\n",
        "    self.depth = input_depth\n",
        "    self.input_height = input_height\n",
        "    self.input_width = input_width\n",
        "    self.output_width = int(self.input_width / self.block_size)\n",
        "    self.output_height = int(self.input_height / self.block_size)\n",
        "    \n",
        "  def forward(self, input):\n",
        "    self.block_image = view_as_blocks(input, (1,self.block_size, self.block_size)).reshape(self.depth,-1, self.block_size**2)\n",
        "    self.output = np.amax(self.block_image, axis=2).reshape(-1, self.output_height, self.output_width)\n",
        "    return self.output\n",
        "    \n",
        "  def backward(self, output_gradient, learning_rate):\n",
        "    max_indices = np.argmax(self.block_image, axis=2)\n",
        "    max_indices = max_indices.reshape(self.depth, -1, 1)\n",
        "    input_gradient = np.zeros_like(self.block_image).reshape(self.depth, -1, self.block_size**2)\n",
        "    np.put_along_axis(input_gradient, max_indices, 1, axis=2)\n",
        "    return np.multiply(get_ordered_blocks(input_gradient, self.depth, self.block_size, self.input_shape),\n",
        "                      expand_output(output_gradient, self.depth, self.input_height, self.input_width,\n",
        "                      self.block_size, self.output_width, self.output_height))"
      ],
      "metadata": {
        "id": "TfTJSCEti4Au"
      },
      "execution_count": 4,
      "outputs": []
    },
    {
      "cell_type": "code",
      "source": [],
      "metadata": {
        "id": "NW3J3KqFi4t_"
      },
      "execution_count": null,
      "outputs": []
    }
  ]
}
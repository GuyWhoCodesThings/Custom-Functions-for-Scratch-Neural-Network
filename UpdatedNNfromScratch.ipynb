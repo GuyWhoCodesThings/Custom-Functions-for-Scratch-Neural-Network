{
  "nbformat": 4,
  "nbformat_minor": 0,
  "metadata": {
    "colab": {
      "provenance": [],
      "collapsed_sections": [],
      "authorship_tag": "ABX9TyPikh4C1798UaOYnrPWEp7h",
      "include_colab_link": true
    },
    "kernelspec": {
      "name": "python3",
      "display_name": "Python 3"
    },
    "language_info": {
      "name": "python"
    }
  },
  "cells": [
    {
      "cell_type": "markdown",
      "metadata": {
        "id": "view-in-github",
        "colab_type": "text"
      },
      "source": [
        "<a href=\"https://colab.research.google.com/github/GuyWhoCodesThings/Custom-Functions-for-Scratch-Neural-Network/blob/main/UpdatedNNfromScratch.ipynb\" target=\"_parent\"><img src=\"https://colab.research.google.com/assets/colab-badge.svg\" alt=\"Open In Colab\"/></a>"
      ]
    },
    {
      "cell_type": "code",
      "execution_count": 1,
      "metadata": {
        "id": "yOywCS0JMdvZ"
      },
      "outputs": [],
      "source": [
        "import numpy as np\n",
        "import pandas as pd\n",
        "from matplotlib import pyplot as plt\n",
        "from scipy import signal\n",
        "from keras.datasets import mnist\n",
        "from keras.utils import np_utils\n",
        "from skimage.measure import block_reduce\n",
        "from skimage.measure import block_reduce\n",
        "from skimage.util import view_as_blocks\n",
        "import numpy.ma as ma\n",
        "from matplotlib import pyplot\n",
        "import random"
      ]
    },
    {
      "cell_type": "code",
      "source": [
        "class Layer:\n",
        "  def __init__(self):\n",
        "    self.input = None\n",
        "    self.output = None\n",
        "  def forward(self, input):\n",
        "    pass\n",
        "  def backward(self, output_gradient, alpha):\n",
        "    pass"
      ],
      "metadata": {
        "id": "Id1F1PoWMjU3"
      },
      "execution_count": 2,
      "outputs": []
    },
    {
      "cell_type": "code",
      "source": [
        "class Dense(Layer):\n",
        "    def __init__(self, input_size, output_size):\n",
        "        self.weights = np.random.randn(output_size, input_size)\n",
        "        self.bias = np.random.randn(output_size, 1)\n",
        "    def forward(self, input):\n",
        "        self.input = input\n",
        "        return np.dot(self.weights, self.input) + self.bias\n",
        "    def backward(self, output_gradient, learning_rate):\n",
        "        weights_gradient = np.dot(output_gradient, self.input.T)\n",
        "        self.weights -= learning_rate * weights_gradient\n",
        "        self.bias -= learning_rate * output_gradient\n",
        "        return np.dot(self.weights.T, output_gradient)"
      ],
      "metadata": {
        "id": "03xretZwM25l"
      },
      "execution_count": 3,
      "outputs": []
    },
    {
      "cell_type": "code",
      "source": [
        "class Convolutional(Layer):\n",
        "     def __init__(self, input_shape, kernel_size, depth):\n",
        "         input_depth, input_height, input_width = input_shape\n",
        "         self.depth = depth\n",
        "         self.input_shape = input_shape\n",
        "         self.input_depth = input_depth\n",
        "         self.output_shape = (depth, input_height - kernel_size + 1, input_width - kernel_size + 1)\n",
        "         self.kernels_shape = (depth, input_depth, kernel_size, kernel_size)\n",
        "         self.kernels = np.random.randn(*self.kernels_shape)\n",
        "         self.biases = np.random.randn(*self.output_shape)\n",
        "\n",
        "     def forward(self, input):\n",
        "         self.input = input\n",
        "         self.output = np.copy(self.biases)\n",
        "         for i in range(self.depth):\n",
        "             for j in range(self.input_depth):\n",
        "                 self.output[i] += signal.correlate2d(self.input[j], self.kernels[i, j], \"valid\")\n",
        "         return self.output\n",
        "\n",
        "     def backward(self, output_gradient, learning_rate):\n",
        "         kernels_gradient = np.zeros(self.kernels_shape)\n",
        "         input_gradient = np.zeros(self.input_shape)\n",
        "\n",
        "         for i in range(self.depth):\n",
        "             for j in range(self.input_depth):\n",
        "                 kernels_gradient[i, j] = signal.correlate2d(self.input[j], output_gradient[i], \"valid\")\n",
        "                 input_gradient[j] += signal.convolve2d(output_gradient[i], self.kernels[i, j], \"full\")\n",
        "\n",
        "         self.kernels -= learning_rate * kernels_gradient\n",
        "         self.biases -= learning_rate * output_gradient\n",
        "         return input_gradient"
      ],
      "metadata": {
        "id": "dn9b43ufM4jK"
      },
      "execution_count": 4,
      "outputs": []
    },
    {
      "cell_type": "code",
      "source": [
        "def get_ordered_blocks(input, depth, block_size, input_shape):\n",
        "    ordered_blocks = input.reshape(depth, -1, block_size, block_size)\n",
        "    reshaped_arr = np.zeros(input_shape)\n",
        "    for i in range(depth):\n",
        "      split_blocks = np.array(np.hsplit(ordered_blocks[i], block_size))\n",
        "      #splits array of blocks evenly with respect to the original image length and block size\n",
        "      split_blocks = np.array(np.hsplit(split_blocks, 12))\n",
        "      #reshape array to get it into a sqaure shape like orignal image matrix\n",
        "      reshaped_arr[i] = split_blocks.flatten().reshape(1, input_shape[2], input_shape[1])\n",
        "    return reshaped_arr"
      ],
      "metadata": {
        "id": "5_gqqvhETYfK"
      },
      "execution_count": 5,
      "outputs": []
    },
    {
      "cell_type": "code",
      "source": [
        "def expand_output(output_gradient, depth, height, width, block_size, output_height, output_width):\n",
        "  output_gradient = output_gradient.reshape(depth, output_height, output_width)\n",
        "  input_grad = np.zeros((depth, int(output_height*output_height), block_size**2))\n",
        "  for i in range(depth):\n",
        "    input_grad[i] = np.repeat(output_gradient[i], block_size**2).reshape(-1,block_size**2)\n",
        "  return get_ordered_blocks(input_grad, depth, block_size, (depth, height, width))\n"
      ],
      "metadata": {
        "id": "zJl-CEJhV8bW"
      },
      "execution_count": 6,
      "outputs": []
    },
    {
      "cell_type": "code",
      "source": [
        "class MaxPool2d(Layer):\n",
        "  def __init__(self, input_shape, block_size):\n",
        "    self.block_size = block_size\n",
        "    self.input_shape = input_shape\n",
        "    input_depth, input_height, input_width = input_shape\n",
        "    self.depth = input_depth\n",
        "    self.input_height = input_height\n",
        "    self.input_width = input_width\n",
        "    self.output_width = int(self.input_width / self.block_size)\n",
        "    self.output_height = int(self.input_height / self.block_size)\n",
        "    \n",
        "  def forward(self, input):\n",
        "    self.block_image = view_as_blocks(input, (1,self.block_size, self.block_size)).reshape(self.depth,-1, self.block_size**2)\n",
        "    self.output = np.amax(self.block_image, axis=2).reshape(-1, self.output_height, self.output_width)\n",
        "    return self.output\n",
        "    \n",
        "  def backward(self, output_gradient, learning_rate):\n",
        "    max_indices = np.argmax(self.block_image, axis=2)\n",
        "    max_indices = max_indices.reshape(self.depth, -1, 1)\n",
        "    input_gradient = np.zeros_like(self.block_image).reshape(self.depth, -1, self.block_size**2)\n",
        "    np.put_along_axis(input_gradient, max_indices, 1, axis=2)\n",
        "    return np.multiply(get_ordered_blocks(input_gradient, self.depth, self.block_size, self.input_shape),\n",
        "                      expand_output(output_gradient, self.depth, self.input_height, self.input_width,\n",
        "                      self.block_size, self.output_width, self.output_height))"
      ],
      "metadata": {
        "id": "Rb4anMs-M6b8"
      },
      "execution_count": 7,
      "outputs": []
    },
    {
      "cell_type": "code",
      "source": [
        "class Reshape(Layer):\n",
        "     def __init__(self, input_shape, output_shape):\n",
        "         self.input_shape = input_shape\n",
        "         self.output_shape = output_shape\n",
        "\n",
        "     def forward(self, input):\n",
        "         return np.reshape(input, self.output_shape)\n",
        "\n",
        "     def backward(self, output_gradient, learning_rate):\n",
        "         return np.reshape(output_gradient, self.input_shape)"
      ],
      "metadata": {
        "id": "rIz23DwRM8Hx"
      },
      "execution_count": 8,
      "outputs": []
    },
    {
      "cell_type": "code",
      "source": [
        "def binary_cross_entropy(y_true, y_pred):\n",
        "     return np.mean(-y_true * np.log(y_pred) - (1 - y_true) * np.log(1 - y_pred))\n",
        "\n",
        "def binary_cross_entropy_prime(y_true, y_pred):\n",
        "     return ((1 - y_true) / (1 - y_pred) - y_true / y_pred) / np.size(y_true)"
      ],
      "metadata": {
        "id": "fEm0ohpNM9we"
      },
      "execution_count": 9,
      "outputs": []
    },
    {
      "cell_type": "code",
      "source": [
        "class Softmax(Layer):\n",
        "\n",
        "  def forward(self, input):\n",
        "    tmp = np.exp(input)\n",
        "    self.output = tmp / np.sum(tmp)\n",
        "    return self.output\n",
        "  \n",
        "  def bacward(self, output_gradient, alpha):\n",
        "    n = np.size(self.output)\n",
        "    tmp = np.tile(self.output, n)\n",
        "    return np.dot(tmp * (np.identity(n) - np.transpose(tmp)), output_gradient)\n"
      ],
      "metadata": {
        "id": "h2Ud464MM_EK"
      },
      "execution_count": 10,
      "outputs": []
    },
    {
      "cell_type": "code",
      "source": [
        "class Activation(Layer):\n",
        "    def __init__(self, activation, activation_prime):\n",
        "        self.activation = activation\n",
        "        self.activation_prime = activation_prime\n",
        "    def forward(self, input):\n",
        "        self.input = input\n",
        "        return self.activation(self.input)\n",
        "    def backward(self, output_gradient, learning_rate):\n",
        "        return np.multiply(output_gradient, self.activation_prime(self.input))"
      ],
      "metadata": {
        "id": "vCB64eQXNA4K"
      },
      "execution_count": 11,
      "outputs": []
    },
    {
      "cell_type": "code",
      "source": [
        "class ReLU(Activation):\n",
        "\n",
        "  def __init__(self):\n",
        "\n",
        "    relu = lambda x: np.maximum(x,0)\n",
        "    relu_prime = lambda x: x > 0\n",
        "    \n",
        "    super().__init__(relu, relu_prime)"
      ],
      "metadata": {
        "id": "AP9gHo3VNCMf"
      },
      "execution_count": 12,
      "outputs": []
    },
    {
      "cell_type": "code",
      "source": [
        "class Soft_Plus(Activation):\n",
        "\n",
        "  def __init__(self):\n",
        "\n",
        "    softPlus = lambda x: np.log1p(np.exp(x))\n",
        "    soft_prime = lambda x: 1 / (1 + np.exp(-x))\n",
        "\n",
        "    super().__init__(softPlus, soft_prime)"
      ],
      "metadata": {
        "id": "1DBjGU1pNEWu"
      },
      "execution_count": 13,
      "outputs": []
    },
    {
      "cell_type": "code",
      "source": [
        "class Tanh(Activation):\n",
        "\n",
        "  def __init__(self):\n",
        "\n",
        "    tanh = lambda x: np.tanh(x)\n",
        "    tanh_prime = lambda x: 1 - np.tanh(x) ** 2\n",
        "    \n",
        "    super().__init__(tanh, tanh_prime)"
      ],
      "metadata": {
        "id": "UtEYXf2nNMcU"
      },
      "execution_count": 14,
      "outputs": []
    },
    {
      "cell_type": "code",
      "source": [
        "class Sigmoid(Activation):\n",
        "     def __init__(self):\n",
        "         def sigmoid(x):\n",
        "            return 1 / (1 + np.exp(-x))\n",
        "\n",
        "         def sigmoid_prime(x):\n",
        "            s = sigmoid(x)\n",
        "            return s * (1 - s)\n",
        "\n",
        "         super().__init__(sigmoid, sigmoid_prime)"
      ],
      "metadata": {
        "id": "DYr7JlMrNOdF"
      },
      "execution_count": 15,
      "outputs": []
    },
    {
      "cell_type": "code",
      "source": [
        "def mse(y_true, y_pred):\n",
        "  return np.mean(np.power(y_true - y_pred, 2))\n",
        "\n",
        "def mse_prime(y_true, y_pred):\n",
        "  return 2 * (y_pred - y_true) / np.size(y_true)"
      ],
      "metadata": {
        "id": "Opvu8fiRNQCD"
      },
      "execution_count": 16,
      "outputs": []
    },
    {
      "cell_type": "code",
      "source": [
        "class Normalization(Layer):\n",
        "  def __init__(self, shape):\n",
        "    self.shape = shape\n",
        "    self.weights = np.random.randn(*shape)\n",
        "    self.bias = np.random.randn(*shape)\n",
        "\n",
        "  def forward(self, input):\n",
        "    self.input = input\n",
        "    self.mean = np.mean(self.input)\n",
        "    self.std_dev = np.std(self.input)\n",
        "    self.normalized_input = (self.input - self.mean) / self.std_dev\n",
        "    scaled_shifted = np.multiply(self.weights, self.normalized_input) + self.bias\n",
        "    return scaled_shifted\n",
        "\n",
        "  def backward(self, output_gradient, learning_rate):\n",
        "    input_gradient = (self.weights / self.std_dev) * output_gradient\n",
        "    self.weights -= self.normalized_input * output_gradient * learning_rate\n",
        "    self.bias -= output_gradient * learning_rate\n",
        "    return input_gradient"
      ],
      "metadata": {
        "id": "C3Dv3eoEFfjg"
      },
      "execution_count": 17,
      "outputs": []
    },
    {
      "cell_type": "code",
      "source": [
        "class NormalizationBasic(Layer):\n",
        "  def __init__(self, shape):\n",
        "    self.shape = shape\n",
        "\n",
        "  def forward(self, input):\n",
        "    self.input = input\n",
        "    self.mean = np.mean(self.input)\n",
        "    self.std_dev = np.std(self.input)\n",
        "    self.normalized_input = (self.input - self.mean) / self.std_dev\n",
        "    return self.normalized_input\n",
        "\n",
        "  def backward(self, output_gradient, learning_rate):\n",
        "    input_gradient = output_gradient / self.std_dev\n",
        "    return input_gradient"
      ],
      "metadata": {
        "id": "OlzZoEb85Rnf"
      },
      "execution_count": 18,
      "outputs": []
    },
    {
      "cell_type": "code",
      "source": [
        "def preprocess_data(x, y, limit):\n",
        "     zero_index = np.where(y == 0)[0][:limit]\n",
        "     one_index = np.where(y == 1)[0][:limit]\n",
        "     all_indices = np.hstack((zero_index, one_index))\n",
        "     all_indices = np.random.permutation(all_indices)\n",
        "     x, y = x[all_indices], y[all_indices]\n",
        "     x = x.reshape(len(x), 1, 28, 28)\n",
        "     y = np_utils.to_categorical(y)\n",
        "     y = y.reshape(len(y), 2, 1)\n",
        "     return x, y\n",
        "\n",
        " # load MNIST from server, limit to 100 images per class since we're not training on GPU\n",
        "(x_train, y_train), (x_test, y_test) = mnist.load_data()\n",
        "x_train, y_train = preprocess_data(x_train, y_train, 100)\n",
        "x_test, y_test = preprocess_data(x_test, y_test, 100)"
      ],
      "metadata": {
        "id": "6ZW5_PF_NRfg"
      },
      "execution_count": null,
      "outputs": []
    },
    {
      "cell_type": "code",
      "source": [
        " # neural network\n",
        "network = [\n",
        "     Convolutional((1, 28, 28), 5, 5),\n",
        "     Normalization((5,24,24)),\n",
        "     Tanh(),\n",
        "     Reshape((5, 24, 24), (5 * 24 * 24, 1)),\n",
        "     Dense(5 * 24 * 24, 100),\n",
        "     Tanh(),\n",
        "     Dense(100, 2),\n",
        "     Sigmoid()\n",
        " ]\n",
        "\n",
        "epochs = 10\n",
        "learning_rate = 0.01\n",
        "\n",
        " # train\n",
        "for e in range(epochs):\n",
        "     error = 0\n",
        "     for x, y in zip(x_train, y_train):\n",
        "         # forward\n",
        "         output = x\n",
        "         for layer in network:\n",
        "             output = layer.forward(output)\n",
        "\n",
        "         # error\n",
        "         error += binary_cross_entropy(y, output)\n",
        "\n",
        "         # backward\n",
        "         grad = binary_cross_entropy_prime(y, output)\n",
        "         for layer in reversed(network):\n",
        "             grad = layer.backward(grad, learning_rate)\n",
        "\n",
        "     error /= len(x_train)\n",
        "     print(f\"{e + 1}/{epochs}, error={error}\")\n",
        "\n",
        " # test\n",
        "#for x, y in zip(x_test, y_test):\n",
        "     #output = x\n",
        "     #for layer in network:\n",
        "        # output = layer.forward(output)\n",
        "    # print(f\"pred: {np.argmax(output)}, true: {np.argmax(y)}\")"
      ],
      "metadata": {
        "colab": {
          "base_uri": "https://localhost:8080/"
        },
        "id": "X4iZSBYRR11R",
        "outputId": "59cddf88-541d-4edc-d670-14cf406e09aa"
      },
      "execution_count": 34,
      "outputs": [
        {
          "output_type": "stream",
          "name": "stdout",
          "text": [
            "1/10, error=0.8115804660373038\n",
            "2/10, error=0.113807523589383\n",
            "3/10, error=0.0388415325214737\n",
            "4/10, error=0.025642278322322524\n",
            "5/10, error=0.014537309812877064\n",
            "6/10, error=0.011165232854965998\n",
            "7/10, error=0.010044768012157397\n",
            "8/10, error=0.009058676838485822\n",
            "9/10, error=0.00802418213888456\n",
            "10/10, error=0.007279396372562525\n"
          ]
        }
      ]
    },
    {
      "cell_type": "code",
      "source": [
        "\n",
        " # neural network\n",
        "network = [\n",
        "     Convolutional((1, 28, 28), 5, 5),\n",
        "     NormalizationBasic((5,24,24)),\n",
        "     Tanh(),\n",
        "     Reshape((5, 24, 24), (5 * 24 * 24, 1)),\n",
        "     Dense(5 * 24 * 24, 100),\n",
        "     Tanh(),\n",
        "     Dense(100, 2),\n",
        "     Sigmoid()\n",
        " ]\n",
        "\n",
        "epochs = 10\n",
        "learning_rate = 0.01\n",
        "\n",
        " # train\n",
        "for e in range(epochs):\n",
        "     error = 0\n",
        "     for x, y in zip(x_train, y_train):\n",
        "         # forward\n",
        "         output = x\n",
        "         for layer in network:\n",
        "             output = layer.forward(output)\n",
        "\n",
        "         # error\n",
        "         error += binary_cross_entropy(y, output)\n",
        "\n",
        "         # backward\n",
        "         grad = binary_cross_entropy_prime(y, output)\n",
        "         for layer in reversed(network):\n",
        "             grad = layer.backward(grad, learning_rate)\n",
        "\n",
        "     error /= len(x_train)\n",
        "     print(f\"{e + 1}/{epochs}, error={error}\")\n",
        "\n",
        " # test\n",
        "#for x, y in zip(x_test, y_test):\n",
        "     #output = x\n",
        "     #for layer in network:\n",
        "        # output = layer.forward(output)\n",
        "    # print(f\"pred: {np.argmax(output)}, true: {np.argmax(y)}\")"
      ],
      "metadata": {
        "colab": {
          "base_uri": "https://localhost:8080/"
        },
        "id": "Spf3ri7q6LlA",
        "outputId": "2e033026-1532-4092-f74f-2ae9205ea960"
      },
      "execution_count": 35,
      "outputs": [
        {
          "output_type": "stream",
          "name": "stdout",
          "text": [
            "1/10, error=2.0630604430791837\n",
            "2/10, error=0.45461619204324566\n",
            "3/10, error=0.15419325086689437\n",
            "4/10, error=0.09213550736080908\n",
            "5/10, error=0.035881870289974215\n",
            "6/10, error=0.018614298085831392\n",
            "7/10, error=0.006438476395204046\n",
            "8/10, error=0.004454565090685319\n",
            "9/10, error=0.003767736446511357\n",
            "10/10, error=0.003359177853126953\n"
          ]
        }
      ]
    },
    {
      "cell_type": "code",
      "source": [
        "network2 = [\n",
        "     Convolutional((1, 28, 28), 5, 5),\n",
        "     Normalization1((5,24,24)),\n",
        "     Sigmoid(),\n",
        "     MaxPool2d((5, 24, 24), 2),\n",
        "     Sigmoid(),\n",
        "     Reshape((5, 12, 12), (5 * 12 * 12, 1)),\n",
        "     Dense(5 * 12 * 12, 100),\n",
        "     Sigmoid(),\n",
        "     Dense(100, 2),\n",
        "     Sigmoid()\n",
        " ]\n",
        "\n",
        "epochs = 10\n",
        "learning_rate = 0.01\n",
        "\n",
        " # train\n",
        "for e in range(epochs):\n",
        "     error = 0\n",
        "     for x, y in zip(x_train, y_train):\n",
        "         # forward\n",
        "         output = x\n",
        "         for layer in network2:\n",
        "             output = layer.forward(output)\n",
        "\n",
        "         # error\n",
        "         error += binary_cross_entropy(y, output)\n",
        "\n",
        "         # backward\n",
        "         grad = binary_cross_entropy_prime(y, output)\n",
        "         for layer in reversed(network2):\n",
        "             grad = layer.backward(grad, learning_rate)\n",
        "\n",
        "     error /= len(x_train)\n",
        "     print(f\"{e + 1}/{epochs}, error={error}\")\n",
        "\n",
        " #test\n",
        "for x, y in zip(x_test, y_test):\n",
        "     output = x\n",
        "     for layer in network2:\n",
        "         output = layer.forward(output)\n",
        "     print(f\"pred: {np.argmax(output)}, true: {np.argmax(y)}\")"
      ],
      "metadata": {
        "colab": {
          "base_uri": "https://localhost:8080/",
          "height": 232
        },
        "id": "CeQrrKgILHvT",
        "outputId": "ef70b888-30f1-439f-8095-23ff86a3481a"
      },
      "execution_count": 21,
      "outputs": [
        {
          "output_type": "error",
          "ename": "NameError",
          "evalue": "ignored",
          "traceback": [
            "\u001b[0;31m---------------------------------------------------------------------------\u001b[0m",
            "\u001b[0;31mNameError\u001b[0m                                 Traceback (most recent call last)",
            "\u001b[0;32m<ipython-input-21-880c5cf9006f>\u001b[0m in \u001b[0;36m<module>\u001b[0;34m\u001b[0m\n\u001b[1;32m      1\u001b[0m network2 = [\n\u001b[1;32m      2\u001b[0m      \u001b[0mConvolutional\u001b[0m\u001b[0;34m(\u001b[0m\u001b[0;34m(\u001b[0m\u001b[0;36m1\u001b[0m\u001b[0;34m,\u001b[0m \u001b[0;36m28\u001b[0m\u001b[0;34m,\u001b[0m \u001b[0;36m28\u001b[0m\u001b[0;34m)\u001b[0m\u001b[0;34m,\u001b[0m \u001b[0;36m5\u001b[0m\u001b[0;34m,\u001b[0m \u001b[0;36m5\u001b[0m\u001b[0;34m)\u001b[0m\u001b[0;34m,\u001b[0m\u001b[0;34m\u001b[0m\u001b[0;34m\u001b[0m\u001b[0m\n\u001b[0;32m----> 3\u001b[0;31m      \u001b[0mNormalization1\u001b[0m\u001b[0;34m(\u001b[0m\u001b[0;34m(\u001b[0m\u001b[0;36m5\u001b[0m\u001b[0;34m,\u001b[0m\u001b[0;36m24\u001b[0m\u001b[0;34m,\u001b[0m\u001b[0;36m24\u001b[0m\u001b[0;34m)\u001b[0m\u001b[0;34m)\u001b[0m\u001b[0;34m,\u001b[0m\u001b[0;34m\u001b[0m\u001b[0;34m\u001b[0m\u001b[0m\n\u001b[0m\u001b[1;32m      4\u001b[0m      \u001b[0mSigmoid\u001b[0m\u001b[0;34m(\u001b[0m\u001b[0;34m)\u001b[0m\u001b[0;34m,\u001b[0m\u001b[0;34m\u001b[0m\u001b[0;34m\u001b[0m\u001b[0m\n\u001b[1;32m      5\u001b[0m      \u001b[0mMaxPool2d\u001b[0m\u001b[0;34m(\u001b[0m\u001b[0;34m(\u001b[0m\u001b[0;36m5\u001b[0m\u001b[0;34m,\u001b[0m \u001b[0;36m24\u001b[0m\u001b[0;34m,\u001b[0m \u001b[0;36m24\u001b[0m\u001b[0;34m)\u001b[0m\u001b[0;34m,\u001b[0m \u001b[0;36m2\u001b[0m\u001b[0;34m)\u001b[0m\u001b[0;34m,\u001b[0m\u001b[0;34m\u001b[0m\u001b[0;34m\u001b[0m\u001b[0m\n",
            "\u001b[0;31mNameError\u001b[0m: name 'Normalization1' is not defined"
          ]
        }
      ]
    },
    {
      "cell_type": "code",
      "source": [
        "class Conv2DTranspose(Layer):\n",
        "     def __init__(self, input_shape, kernel_size, depth):\n",
        "         input_depth, input_height, input_width = input_shape\n",
        "         self.depth = depth\n",
        "         self.input_shape = input_shape\n",
        "         self.input_depth = input_depth\n",
        "         self.output_shape = (depth, input_height + kernel_size - 1, input_width + kernel_size - 1)\n",
        "         self.kernels_shape = (depth, input_depth, kernel_size, kernel_size)\n",
        "         self.kernels = np.random.randn(*self.kernels_shape)\n",
        "         self.biases = np.random.randn(*self.output_shape)\n",
        "\n",
        "     def forward(self, input):\n",
        "         self.input = input\n",
        "         self.output = np.copy(self.biases)\n",
        "         for i in range(self.depth):\n",
        "             for j in range(self.input_depth):\n",
        "                 self.output[i] += signal.correlate2d(self.input[j], self.kernels[i, j], \"full\")\n",
        "         return self.output\n",
        "\n",
        "     def backward(self, output_gradient, learning_rate):\n",
        "         kernels_gradient = np.zeros(self.kernels_shape)\n",
        "         input_gradient = np.zeros(self.input_shape)\n",
        "\n",
        "         for i in range(self.depth):\n",
        "             for j in range(self.input_depth):\n",
        "                 kernels_gradient[i, j] = signal.correlate2d(self.input[j], output_gradient[i], \"valid\")\n",
        "                 input_gradient[j] += signal.convolve2d(output_gradient[i], self.kernels[i, j], \"full\")\n",
        "\n",
        "         self.kernels -= learning_rate * kernels_gradient\n",
        "         self.biases -= learning_rate * output_gradient\n",
        "         return input_gradient"
      ],
      "metadata": {
        "id": "q41xS6AbFRFf"
      },
      "execution_count": null,
      "outputs": []
    },
    {
      "cell_type": "code",
      "source": [],
      "metadata": {
        "id": "JTLZllH2QrqH"
      },
      "execution_count": null,
      "outputs": []
    },
    {
      "cell_type": "markdown",
      "source": [
        "https://towardsdatascience.com/batch-norm-explained-visually-how-it-works-and-why-neural-networks-need-it-b18919692739"
      ],
      "metadata": {
        "id": "qipVdXjBFu9I"
      }
    },
    {
      "cell_type": "code",
      "source": [
        "test = np.random.randint(0, 10, (2,5))"
      ],
      "metadata": {
        "id": "Kl5frSFSMb9G"
      },
      "execution_count": null,
      "outputs": []
    },
    {
      "cell_type": "code",
      "source": [
        "print(test)\n",
        "print(np.std(test))"
      ],
      "metadata": {
        "id": "OwFLyOxoMf6O"
      },
      "execution_count": null,
      "outputs": []
    },
    {
      "cell_type": "code",
      "source": [
        "norm = Normalization2(test.shape)"
      ],
      "metadata": {
        "id": "IZJWuHuFMfQM"
      },
      "execution_count": null,
      "outputs": []
    },
    {
      "cell_type": "code",
      "source": [
        "pls = norm.forward(test)\n",
        "print(\"result: \", pls)"
      ],
      "metadata": {
        "id": "xrenc9XwOK0Z"
      },
      "execution_count": null,
      "outputs": []
    },
    {
      "cell_type": "code",
      "source": [
        "back = norm.backward(test, 0.1)"
      ],
      "metadata": {
        "id": "ZR17q-k0OqQa"
      },
      "execution_count": null,
      "outputs": []
    },
    {
      "cell_type": "code",
      "source": [],
      "metadata": {
        "id": "YWvGYUX5Rmjk"
      },
      "execution_count": null,
      "outputs": []
    }
  ]
}
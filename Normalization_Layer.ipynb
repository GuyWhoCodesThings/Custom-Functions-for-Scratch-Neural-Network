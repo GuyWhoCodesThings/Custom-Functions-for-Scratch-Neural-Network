{
  "nbformat": 4,
  "nbformat_minor": 0,
  "metadata": {
    "colab": {
      "provenance": [],
      "authorship_tag": "ABX9TyMeBqgo9y0DlvyEmI2Yx5an",
      "include_colab_link": true
    },
    "kernelspec": {
      "name": "python3",
      "display_name": "Python 3"
    },
    "language_info": {
      "name": "python"
    }
  },
  "cells": [
    {
      "cell_type": "markdown",
      "metadata": {
        "id": "view-in-github",
        "colab_type": "text"
      },
      "source": [
        "<a href=\"https://colab.research.google.com/github/GuyWhoCodesThings/Custom-Functions-for-Scratch-Neural-Network/blob/main/Normalization_Layer.ipynb\" target=\"_parent\"><img src=\"https://colab.research.google.com/assets/colab-badge.svg\" alt=\"Open In Colab\"/></a>"
      ]
    },
    {
      "cell_type": "code",
      "execution_count": null,
      "metadata": {
        "id": "cf9aqxOD3QqL"
      },
      "outputs": [],
      "source": [
        "class Normalization(Layer):\n",
        "  def __init__(self, shape):\n",
        "    self.shape = shape\n",
        "    self.weights = np.random.randn(*shape)\n",
        "    self.bias = np.random.randn(*shape)\n",
        "\n",
        "  def forward(self, input):\n",
        "    self.input = input\n",
        "    self.mean = np.mean(self.input)\n",
        "    self.std_dev = np.std(self.input)\n",
        "    self.normalized_input = (self.input - self.mean) / self.std_dev\n",
        "    scaled_shifted = np.multiply(self.weights, self.normalized_input) + self.bias\n",
        "    return scaled_shifted\n",
        "\n",
        "  def backward(self, output_gradient, learning_rate):\n",
        "    input_gradient = self.weights / self.std_dev\n",
        "    self.weights -= self.normalized_input * output_gradient * learning_rate\n",
        "    self.bias -= output_gradient * learning_rate\n",
        "    return input_gradient"
      ]
    }
  ]
}